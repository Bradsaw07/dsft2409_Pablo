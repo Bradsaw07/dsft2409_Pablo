{
 "cells": [
  {
   "attachments": {},
   "cell_type": "markdown",
   "metadata": {},
   "source": [
    "![imagen](./img/ejercicios.png)\n",
    "# Markdown\n",
    "\n",
    "## Ejercicio 1\n",
    "Vamos a aplicar los conocimientos adquiridos en este notebook, intentando reproducir la siguiente imagen en una celda markdown con su sintaxis. En el link va la página: https://www.kaggle.com/\n",
    "\n",
    "**TIP**: en [este enlace](https://www.markdownguide.org/basic-syntax/) tienes más ejemplos, por si te atascas con algo :)\n"
   ]
  },
  {
   "cell_type": "markdown",
   "metadata": {},
   "source": [
    "![imagen](./img/ejercicio_markdown.png)"
   ]
  },
  {
   "cell_type": "markdown",
   "metadata": {},
   "source": [
    "## Aptitudes de Data Science"
   ]
  },
  {
   "cell_type": "markdown",
   "metadata": {},
   "source": [
    "# **Lo mas importante**\n",
    "***\n",
    "\n",
    "+ Matematicas\n",
    "+ Python\n",
    "+ Sql\n",
    "\n",
    "![imagen](./img/python.png)\n",
    "\n",
    "Otro tema importante es el ***Business Intelligence***\n",
    "\n",
    "Si tienes dudas, puedes escriberme a: [pablohalo10@gmail.com](https://mail.google.com/mail/u/0/?tab=rm&ogbl#inbox)\n",
    "\n",
    "En esta pagina se aprende mucho de machine learning: [pagina con ml](https://www.ibm.com/es-es/topics/machine-learning)"
   ]
  },
  {
   "attachments": {},
   "cell_type": "markdown",
   "metadata": {},
   "source": [
    "## Ejercicio 2\n",
    "Para este ejercicio vas a crear dos nuevos elementos que no hemos visto en la teoría, tendrás que buscar en google cómo hacer: una tabla y una fórmula. Busca en la web la sintaxis y replica ambos elementos."
   ]
  },
  {
   "cell_type": "markdown",
   "metadata": {},
   "source": [
    "<div style=\"text-align:center\"><img src=\"./img/md_ejercicio2.png\" /></div>"
   ]
  },
  {
   "cell_type": "markdown",
   "metadata": {},
   "source": [
    "| Ramp up     | Data Analysis | Machine Learning       | Data & Business  |\n",
    "|-------------|---------------|------------------------|------------------|\n",
    "| Python      | EDA           | Supervised             | Productivizacion |\n",
    "| Estadistica | R             | Non supervised         | Storytelling     |\n",
    "| SQL         | Feat. Eng.    | Deep learning          | API              |\n",
    "<div style=\"text-align: center;\">\n",
    "\n",
    "    $\\sqrt{3x - 1 + (1 + x)^2}$\n",
    "</div>"
   ]
  },
  {
   "cell_type": "markdown",
   "metadata": {},
   "source": [
    "<div style=\"text-align: center;\">\n",
    "\n",
    "  <table>\n",
    "    <tr>\n",
    "      <th>Ramp up</th>\n",
    "      <th>Data Analysis</th>\n",
    "      <th>Machine Learning</th>\n",
    "      <th>Data & Business</th>\n",
    "    </tr>\n",
    "    <tr>\n",
    "      <td>Python</td>\n",
    "      <td>EDA</td>\n",
    "      <td>Supervised</td>\n",
    "      <td>Productivizacion</td>\n",
    "    </tr>\n",
    "    <tr>\n",
    "      <td>Estadistica</td>\n",
    "      <td>R</td>\n",
    "      <td>Non supervised</td>\n",
    "      <td>Storytelling</td>\n",
    "    </tr>\n",
    "    <tr>\n",
    "      <td>SQL</td>\n",
    "      <td>Feat. Eng</td>\n",
    "      <td>Deep Learning</td>\n",
    "      <td>API</td>\n",
    "    </tr>\n",
    "  </table>\n",
    "  <p>$$\\sqrt{3x - 1 + (1 + x)^2}$$</p>\n",
    "</div>"
   ]
  }
 ],
 "metadata": {
  "kernelspec": {
   "display_name": "Python 3.7.4 64-bit",
   "language": "python",
   "name": "python3"
  },
  "language_info": {
   "codemirror_mode": {
    "name": "ipython",
    "version": 3
   },
   "file_extension": ".py",
   "mimetype": "text/x-python",
   "name": "python",
   "nbconvert_exporter": "python",
   "pygments_lexer": "ipython3",
   "version": "3.7.4"
  },
  "vscode": {
   "interpreter": {
    "hash": "90139cb9a825bf3d63f6f6704e828dbd1ff7edbd4d0c6e906a71235d6efc74af"
   }
  }
 },
 "nbformat": 4,
 "nbformat_minor": 4
}
